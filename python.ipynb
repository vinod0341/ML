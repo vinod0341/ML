{
  "cells": [
    {
      "cell_type": "markdown",
      "metadata": {
        "id": "view-in-github",
        "colab_type": "text"
      },
      "source": [
        "<a href=\"https://colab.research.google.com/github/vinod623/ML/blob/main/python.ipynb\" target=\"_parent\"><img src=\"https://colab.research.google.com/assets/colab-badge.svg\" alt=\"Open In Colab\"/></a>"
      ]
    },
    {
      "cell_type": "code",
      "execution_count": null,
      "metadata": {
        "colab": {
          "base_uri": "https://localhost:8080/"
        },
        "id": "8R2NEfn83yU4",
        "outputId": "582321e8-bef0-4721-a40a-fd883a2d6e24"
      },
      "outputs": [
        {
          "output_type": "stream",
          "name": "stdout",
          "text": [
            "sum of N natural number\n",
            "enter the value of N :5\n",
            "15\n"
          ]
        }
      ],
      "source": [
        "def sum():\n",
        "  print(\"sum of N natural number\")\n",
        "  a = int(input(\"enter the value of N :\"))\n",
        "  b = (a*(a+1))/2\n",
        "  print(int(b))\n",
        "sum() "
      ]
    },
    {
      "cell_type": "code",
      "execution_count": null,
      "metadata": {
        "colab": {
          "base_uri": "https://localhost:8080/"
        },
        "id": "Qm3FiKeT4mVr",
        "outputId": "2545ba11-7d04-4520-df18-dcb1ca998412"
      },
      "outputs": [
        {
          "name": "stdout",
          "output_type": "stream",
          "text": [
            "sum of N natural number\n",
            "enter the value of N :8\n",
            "36.0\n"
          ]
        }
      ],
      "source": [
        "print(\"sum of N natural number\")\n",
        "a = int(input(\"enter the value of N :\"))\n",
        "b = (a*(a+1))/2\n",
        "print(b)"
      ]
    },
    {
      "cell_type": "code",
      "execution_count": null,
      "metadata": {
        "colab": {
          "base_uri": "https://localhost:8080/"
        },
        "id": "IwkIOV3U-Wb3",
        "outputId": "0dea46a5-46a6-44d5-b228-def7f2e6ca44"
      },
      "outputs": [
        {
          "name": "stdout",
          "output_type": "stream",
          "text": [
            "407 is not a prime number\n",
            "11 times 37 is 407\n"
          ]
        }
      ],
      "source": [
        "num = 407\n",
        "if num > 1:\n",
        "   for i in range(2,num):\n",
        "       if (num % i) == 0:\n",
        "           print(num,\"is not a prime number\")\n",
        "           print(i,\"times\",num//i,\"is\",num)\n",
        "           break\n",
        "   else:\n",
        "       print(num,\"is a prime number\")\n",
        "else:\n",
        "   print(num,\"is not a prime number\")"
      ]
    },
    {
      "cell_type": "code",
      "execution_count": null,
      "metadata": {
        "colab": {
          "base_uri": "https://localhost:8080/"
        },
        "id": "N8pJQqsNIEZH",
        "outputId": "a468910f-ba15-4993-ee9b-c1955ab2cd68"
      },
      "outputs": [
        {
          "name": "stdout",
          "output_type": "stream",
          "text": [
            "enter the number : 453\n",
            "it is a prime number\n"
          ]
        }
      ],
      "source": [
        "x = int(input(\"enter the number : \"))\n",
        "for i in (2,x):\n",
        "  if(x % i)==0:\n",
        "    print(\"not a prime number\")\n",
        "    print(i ,\"times\",(x // i),\"in\",x)\n",
        "    break\n",
        "  else:\n",
        "    print(\"it is a prime number\")\n",
        "    break"
      ]
    },
    {
      "cell_type": "code",
      "execution_count": null,
      "metadata": {
        "colab": {
          "base_uri": "https://localhost:8080/"
        },
        "id": "AF4DOsjFP-rU",
        "outputId": "50e025f7-af5e-4ca9-a6df-3eeaf0368ca7"
      },
      "outputs": [
        {
          "name": "stdout",
          "output_type": "stream",
          "text": [
            "the values of x and y before swapping is 4 and 5\n",
            "the values of x and y after swapping is 5 and 5\n"
          ]
        }
      ],
      "source": [
        "x = 4\n",
        "y = 5\n",
        "print(\"the values of x and y before swapping is\",x,\"and\",y)\n",
        "x = y\n",
        "y = x\n",
        "print(\"the values of x and y after swapping is\",x,\"and\",y)"
      ]
    },
    {
      "cell_type": "code",
      "execution_count": null,
      "metadata": {
        "colab": {
          "base_uri": "https://localhost:8080/"
        },
        "id": "5ezVzqzNSHpj",
        "outputId": "e4a755bb-05b3-4cb0-e358-afa9839003a6"
      },
      "outputs": [
        {
          "name": "stdout",
          "output_type": "stream",
          "text": [
            "623326\n",
            "the entered \"digits\" or \"word\" is an palindrom\n"
          ]
        }
      ],
      "source": [
        "x = str(input(\"\"))\n",
        "a = x[::1]\n",
        "b = x[::-1]\n",
        "a\n",
        "b\n",
        "if(a==b):\n",
        "  print('the entered \"digits\" or \"word\" is an palindrom')\n",
        "else:\n",
        "  print(\"NOT a palindrom\")"
      ]
    },
    {
      "cell_type": "code",
      "execution_count": null,
      "metadata": {
        "colab": {
          "base_uri": "https://localhost:8080/"
        },
        "id": "PYQWVQ_xTR6V",
        "outputId": "5ef664f2-675b-4de9-fcb4-5e2c8c360b0b"
      },
      "outputs": [
        {
          "output_type": "stream",
          "name": "stdout",
          "text": [
            "1 is a prime number\n",
            "2 is a prime number\n",
            "3 is a prime number\n",
            "5 is a prime number\n",
            "7 is a prime number\n",
            "11 is a prime number\n",
            "13 is a prime number\n",
            "17 is a prime number\n",
            "19 is a prime number\n",
            "23 is a prime number\n",
            "29 is a prime number\n",
            "31 is a prime number\n",
            "37 is a prime number\n",
            "41 is a prime number\n",
            "43 is a prime number\n",
            "47 is a prime number\n",
            "53 is a prime number\n",
            "59 is a prime number\n",
            "61 is a prime number\n",
            "67 is a prime number\n",
            "71 is a prime number\n",
            "73 is a prime number\n",
            "79 is a prime number\n",
            "83 is a prime number\n",
            "89 is a prime number\n",
            "97 is a prime number\n"
          ]
        }
      ],
      "source": [
        "print(\"1 is a prime number\\n2 is a prime number\\n3 is a prime number\")\n",
        "print(\"5 is a prime number\\n7 is a prime number\")\n",
        "for i in range(2,101):\n",
        "  if i%2!=0 and i%3!=0 and i%5!=0 and i%7!=0:\n",
        "    print(i,\"is a prime number\")\n",
        " "
      ]
    },
    {
      "cell_type": "code",
      "source": [
        "for i in range(2,101):\n",
        "  if i>1:\n",
        "    for j in range(2,i):\n",
        "      if (i%j)==0:\n",
        "        break\n",
        "    else:\n",
        "        print(i,end=\" \")  \n"
      ],
      "metadata": {
        "colab": {
          "base_uri": "https://localhost:8080/"
        },
        "id": "2U9dg-KTG0no",
        "outputId": "fa002bfc-7dad-4511-bccc-0a8c40473854"
      },
      "execution_count": null,
      "outputs": [
        {
          "output_type": "stream",
          "name": "stdout",
          "text": [
            "2 3 5 7 11 13 17 19 23 29 31 37 41 43 47 53 59 61 67 71 73 79 83 89 97 "
          ]
        }
      ]
    },
    {
      "cell_type": "code",
      "execution_count": null,
      "metadata": {
        "colab": {
          "base_uri": "https://localhost:8080/"
        },
        "id": "XIIZkTASVlaA",
        "outputId": "094b8c58-5120-4e67-f1a0-0ce8f31e1130"
      },
      "outputs": [
        {
          "name": "stdout",
          "output_type": "stream",
          "text": [
            "king\n"
          ]
        }
      ],
      "source": [
        "a = (\"1\")\n",
        "for i in a:\n",
        "  print(\"king\")"
      ]
    },
    {
      "cell_type": "code",
      "execution_count": null,
      "metadata": {
        "colab": {
          "base_uri": "https://localhost:8080/"
        },
        "id": "MSWjVN8V8l1q",
        "outputId": "fadda8c3-c9dc-4a0d-ba6a-2d4ff618473e"
      },
      "outputs": [
        {
          "data": {
            "text/plain": [
              "[13, 11, 10, 9, 3, 2]"
            ]
          },
          "execution_count": 28,
          "metadata": {},
          "output_type": "execute_result"
        }
      ],
      "source": [
        "x=(11,2,13,10,9,3)\n",
        "sorted(x,reverse=True)"
      ]
    },
    {
      "cell_type": "code",
      "execution_count": null,
      "metadata": {
        "colab": {
          "base_uri": "https://localhost:8080/"
        },
        "id": "PocMMHaRWlam",
        "outputId": "22b4d827-d0fd-4d04-8195-5ebae52e8dbd"
      },
      "outputs": [
        {
          "data": {
            "text/plain": [
              "65"
            ]
          },
          "execution_count": 2,
          "metadata": {},
          "output_type": "execute_result"
        }
      ],
      "source": [
        "x = ord(\"A\")\n",
        "x"
      ]
    },
    {
      "cell_type": "code",
      "execution_count": null,
      "metadata": {
        "colab": {
          "base_uri": "https://localhost:8080/"
        },
        "id": "Kbw70GnT_jCY",
        "outputId": "f4d265bc-6ea9-42da-cc62-2d5e1b27db80"
      },
      "outputs": [
        {
          "name": "stdout",
          "output_type": "stream",
          "text": [
            "enter the numbers : 6\n",
            "21.0\n"
          ]
        }
      ],
      "source": [
        "def sum():\n",
        "  n = int(input(\"enter the numbers : \"))\n",
        "  x = (n*(n+1))/2\n",
        "  print(x)\n",
        "sum()"
      ]
    },
    {
      "cell_type": "code",
      "execution_count": null,
      "metadata": {
        "colab": {
          "base_uri": "https://localhost:8080/"
        },
        "id": "9VGWVi8EAAD5",
        "outputId": "f24fbd3a-45af-430f-ee0d-64c9274e8c8a"
      },
      "outputs": [
        {
          "name": "stdout",
          "output_type": "stream",
          "text": [
            "enter the number: 6\n",
            "0\n",
            "1\n",
            "2\n",
            "3\n",
            "4\n",
            "5\n"
          ]
        }
      ],
      "source": [
        "x = int(input(\"enter the number: \"))\n",
        "for i in range(x):\n",
        "  print(i)\n",
        "\n",
        "    "
      ]
    },
    {
      "cell_type": "code",
      "execution_count": null,
      "metadata": {
        "colab": {
          "base_uri": "https://localhost:8080/"
        },
        "id": "4P0zi-u9gj4T",
        "outputId": "d74cbb86-3efe-4a17-e335-6f643ba57aca"
      },
      "outputs": [
        {
          "name": "stdout",
          "output_type": "stream",
          "text": [
            "which year do u want to check ?2564\n",
            "2564 is a leap year\n"
          ]
        }
      ],
      "source": [
        "k = int(input(\"which year do u want to check ?\"))\n",
        "x = ((k % 4)==0)\n",
        "y = ((k % 100)==0)\n",
        "z = ((k % 400)==0)\n",
        "if x is True:\n",
        "  if y is True:\n",
        "    if z is True:\n",
        "      print(k,\"is leap year\")\n",
        "    else:\n",
        "      print(k,\"is not a leap year\") \n",
        "  else:\n",
        "     print(k,\"is a leap year\")    \n",
        "else:\n",
        "  print(k,\"is not a leap year\")  "
      ]
    },
    {
      "cell_type": "code",
      "execution_count": null,
      "metadata": {
        "colab": {
          "background_save": true
        },
        "id": "KLzsnAMQkCpu",
        "outputId": "3489693e-8709-4bca-8f53-1ff83d44b3bb"
      },
      "outputs": [
        {
          "name": "stdout",
          "output_type": "stream",
          "text": [
            "i\n",
            "i\n",
            "i\n",
            "i\n",
            "i\n"
          ]
        }
      ],
      "source": [
        "#x = int(input(\"\"))\n",
        "for i in range(0,5):\n",
        "  print(\"i\")"
      ]
    },
    {
      "cell_type": "code",
      "execution_count": null,
      "metadata": {
        "id": "YlN4GJ5mLQf0",
        "colab": {
          "base_uri": "https://localhost:8080/"
        },
        "outputId": "4db2754f-b185-44aa-de52-73af5a9cc840"
      },
      "outputs": [
        {
          "output_type": "stream",
          "name": "stdout",
          "text": [
            "A \n",
            "B C \n",
            "D E F \n",
            "G H I J \n",
            "K L M N O \n"
          ]
        }
      ],
      "source": [
        "n = 65\n",
        "for len in range(1,6):\n",
        "  str=\"\"\n",
        "  for i in range(len):\n",
        "    str=str+chr(n)+\" \"\n",
        "    n+=1\n",
        "  print(str)  "
      ]
    },
    {
      "cell_type": "code",
      "source": [
        "n = int(input(\"Enter the number: \"))\n",
        "for i in range(1,n+1):\n",
        "  for j in range(1,i+1):\n",
        "    print(j,end=\"\")\n",
        "  print(\"\")    "
      ],
      "metadata": {
        "colab": {
          "base_uri": "https://localhost:8080/"
        },
        "id": "i3T8varcgoAc",
        "outputId": "f30ec408-dfca-4f51-ec65-164756239b7f"
      },
      "execution_count": null,
      "outputs": [
        {
          "output_type": "stream",
          "name": "stdout",
          "text": [
            "Enter the number: 7\n",
            "1p\n",
            "12p\n",
            "123p\n",
            "1234p\n",
            "12345p\n",
            "123456p\n",
            "1234567p\n"
          ]
        }
      ]
    },
    {
      "cell_type": "code",
      "source": [
        "v = [1,2,3,4,5]\n",
        "for i in v:\n",
        "  print(i,end=\"\")"
      ],
      "metadata": {
        "id": "LiVD8vcTjhrU",
        "colab": {
          "base_uri": "https://localhost:8080/"
        },
        "outputId": "6c4dfa4e-bc73-4f3d-c177-d143bc2aabe5"
      },
      "execution_count": null,
      "outputs": [
        {
          "output_type": "stream",
          "name": "stdout",
          "text": [
            "12345"
          ]
        }
      ]
    },
    {
      "cell_type": "code",
      "source": [
        "for i in range(1,11):\n",
        "  print(i,end=\" \")\n",
        "print(type(i))  "
      ],
      "metadata": {
        "colab": {
          "base_uri": "https://localhost:8080/"
        },
        "id": "r50BBXH-axG-",
        "outputId": "79e445dc-8344-41ca-cde9-8bf40f0d77a2"
      },
      "execution_count": null,
      "outputs": [
        {
          "output_type": "stream",
          "name": "stdout",
          "text": [
            "1 2 3 4 5 6 7 8 9 10 <class 'int'>\n"
          ]
        }
      ]
    },
    {
      "cell_type": "code",
      "source": [
        "print(\"the first 10 natural number is:\")\n",
        "sum = 0 \n",
        "for i in range(1,11):\n",
        "  print(i,end=\" \")\n",
        "  sum = sum+i\n",
        "print()\n",
        "print(\"The Sum is :\",sum)  \n"
      ],
      "metadata": {
        "colab": {
          "base_uri": "https://localhost:8080/"
        },
        "id": "13m5-UjrcFhF",
        "outputId": "4f8150b5-b3e1-4a4c-f5f2-e464d5ab4a63"
      },
      "execution_count": null,
      "outputs": [
        {
          "output_type": "stream",
          "name": "stdout",
          "text": [
            "the first 10 natural number is:\n",
            "1 2 3 4 5 6 7 8 9 10 \n",
            "The Sum is : 55\n"
          ]
        }
      ]
    },
    {
      "cell_type": "code",
      "source": [
        "x = int(input(\"test data: \"))\n",
        "print(\"the first\",x,\"Natural number is: \")\n",
        "sum = 0\n",
        "for i in range(1,x+1):\n",
        "  print(i,end=\" \")\n",
        "  sum = sum+i\n",
        "print()\n",
        "print(\"The Sum of natural number upto\",x,\"terms:\",sum)  \n"
      ],
      "metadata": {
        "colab": {
          "base_uri": "https://localhost:8080/"
        },
        "id": "Z5J4emO3c9Zq",
        "outputId": "e01089a5-b411-4777-9282-db9c91b00956"
      },
      "execution_count": null,
      "outputs": [
        {
          "output_type": "stream",
          "name": "stdout",
          "text": [
            "test data: 7\n",
            "the first 7 Natural number is: \n",
            "1 2 3 4 5 6 7 \n",
            "The Sum of natural number upto 7 terms: 28\n"
          ]
        }
      ]
    },
    {
      "cell_type": "code",
      "source": [
        "print(\"Input the 10 numbers!\")\n",
        "sum = 0\n",
        "for i in range(1,11):\n",
        "   k = int(input(\"number:\"))\n",
        "   sum = sum+k\n",
        "print(\"The sum of 10 no is:\",sum)\n",
        "print(sum/10) \n",
        "\n"
      ],
      "metadata": {
        "colab": {
          "base_uri": "https://localhost:8080/"
        },
        "id": "OhgQ96l-g2Q_",
        "outputId": "a95c8bbf-b6c4-48f0-a540-89785c3ac78c"
      },
      "execution_count": null,
      "outputs": [
        {
          "output_type": "stream",
          "name": "stdout",
          "text": [
            "Input the 10 numbers!\n",
            "number:6\n",
            "number:76\n",
            "number:54\n",
            "number:34\n",
            "number:23\n",
            "number:45\n",
            "number:66\n",
            "number:44\n",
            "number:79\n",
            "number:42\n",
            "The sum of 10 no is: 469\n",
            "46.9\n"
          ]
        }
      ]
    },
    {
      "cell_type": "code",
      "source": [
        "x = int(input(\"number of terms:\"))\n",
        "for i in range(1,x+1):\n",
        "  x = i**3\n",
        "  print(\"Number is\",i,\"and cube of the\",i,\"is:\",x)\n",
        "  "
      ],
      "metadata": {
        "id": "1S4QHpxTjWpF",
        "colab": {
          "base_uri": "https://localhost:8080/"
        },
        "outputId": "cec15856-0442-4280-aca3-45b8c14f8cd0"
      },
      "execution_count": null,
      "outputs": [
        {
          "output_type": "stream",
          "name": "stdout",
          "text": [
            "number of terms:5\n",
            "Number is 1 and cube of the 1 is: 1\n",
            "Number is 2 and cube of the 2 is: 8\n",
            "Number is 3 and cube of the 3 is: 27\n",
            "Number is 4 and cube of the 4 is: 64\n",
            "Number is 5 and cube of the 5 is: 125\n"
          ]
        }
      ]
    },
    {
      "cell_type": "code",
      "source": [
        "x = int(input(\"Table to be caluclated:\"))\n",
        "for i in range(1,11):\n",
        "  k=x*i\n",
        "  print(x,\"*\",i,\"=\",k)\n"
      ],
      "metadata": {
        "colab": {
          "base_uri": "https://localhost:8080/"
        },
        "id": "DqpXz3t9VF8-",
        "outputId": "c690bacb-43e8-4a71-bd81-e85aa549df9f"
      },
      "execution_count": null,
      "outputs": [
        {
          "output_type": "stream",
          "name": "stdout",
          "text": [
            "Table to be caluclated:15\n",
            "15 * 1 = 15\n",
            "15 * 2 = 30\n",
            "15 * 3 = 45\n",
            "15 * 4 = 60\n",
            "15 * 5 = 75\n",
            "15 * 6 = 90\n",
            "15 * 7 = 105\n",
            "15 * 8 = 120\n",
            "15 * 9 = 135\n",
            "15 * 10 = 150\n"
          ]
        }
      ]
    },
    {
      "cell_type": "code",
      "source": [
        "x = int(input(\"enter the number:\"))\n",
        "for i in range(1,x+1):\n",
        "  for j in range(1,11):\n",
        "    k = i*j\n",
        "    print(i,\"*\",j,\"=\",k,end=\" ,\")\n",
        "  print()   "
      ],
      "metadata": {
        "colab": {
          "base_uri": "https://localhost:8080/"
        },
        "id": "Mp0MvI-VWieN",
        "outputId": "a9573017-32f2-4462-d172-d6278086bbc1"
      },
      "execution_count": null,
      "outputs": [
        {
          "output_type": "stream",
          "name": "stdout",
          "text": [
            "enter the number:8\n",
            "1 * 1 = 1 ,1 * 2 = 2 ,1 * 3 = 3 ,1 * 4 = 4 ,1 * 5 = 5 ,1 * 6 = 6 ,1 * 7 = 7 ,1 * 8 = 8 ,1 * 9 = 9 ,1 * 10 = 10 ,\n",
            "2 * 1 = 2 ,2 * 2 = 4 ,2 * 3 = 6 ,2 * 4 = 8 ,2 * 5 = 10 ,2 * 6 = 12 ,2 * 7 = 14 ,2 * 8 = 16 ,2 * 9 = 18 ,2 * 10 = 20 ,\n",
            "3 * 1 = 3 ,3 * 2 = 6 ,3 * 3 = 9 ,3 * 4 = 12 ,3 * 5 = 15 ,3 * 6 = 18 ,3 * 7 = 21 ,3 * 8 = 24 ,3 * 9 = 27 ,3 * 10 = 30 ,\n",
            "4 * 1 = 4 ,4 * 2 = 8 ,4 * 3 = 12 ,4 * 4 = 16 ,4 * 5 = 20 ,4 * 6 = 24 ,4 * 7 = 28 ,4 * 8 = 32 ,4 * 9 = 36 ,4 * 10 = 40 ,\n",
            "5 * 1 = 5 ,5 * 2 = 10 ,5 * 3 = 15 ,5 * 4 = 20 ,5 * 5 = 25 ,5 * 6 = 30 ,5 * 7 = 35 ,5 * 8 = 40 ,5 * 9 = 45 ,5 * 10 = 50 ,\n",
            "6 * 1 = 6 ,6 * 2 = 12 ,6 * 3 = 18 ,6 * 4 = 24 ,6 * 5 = 30 ,6 * 6 = 36 ,6 * 7 = 42 ,6 * 8 = 48 ,6 * 9 = 54 ,6 * 10 = 60 ,\n",
            "7 * 1 = 7 ,7 * 2 = 14 ,7 * 3 = 21 ,7 * 4 = 28 ,7 * 5 = 35 ,7 * 6 = 42 ,7 * 7 = 49 ,7 * 8 = 56 ,7 * 9 = 63 ,7 * 10 = 70 ,\n",
            "8 * 1 = 8 ,8 * 2 = 16 ,8 * 3 = 24 ,8 * 4 = 32 ,8 * 5 = 40 ,8 * 6 = 48 ,8 * 7 = 56 ,8 * 8 = 64 ,8 * 9 = 72 ,8 * 10 = 80 ,\n"
          ]
        }
      ]
    },
    {
      "cell_type": "code",
      "source": [
        "x = int(input(\"enter the number of terms: \"))\n",
        "print(\"the odd numbers are: \")\n",
        "sum = 0\n",
        "for i in range(1,x+1):  \n",
        "  print(2*i-1,end=\" \")\n",
        "  sum = (sum+(2*i-1))\n",
        "print(\"\\nthe sum of odd natural numbers upto to\",x,\"terms : \",sum)\n"
      ],
      "metadata": {
        "id": "o8ok5enKX5eu",
        "colab": {
          "base_uri": "https://localhost:8080/"
        },
        "outputId": "83ff1b65-28c1-4886-9839-1d4d56624575"
      },
      "execution_count": null,
      "outputs": [
        {
          "output_type": "stream",
          "name": "stdout",
          "text": [
            "enter the number of terms: 10\n",
            "the odd numbers are: \n",
            "1 3 5 7 9 11 13 15 17 19 \n",
            "the sum of odd natural numbers upto to 10 terms :  100\n"
          ]
        }
      ]
    },
    {
      "cell_type": "code",
      "source": [
        "for i in range(1,6):\n",
        "  for j in range(0,i):\n",
        "    print(\"*\",end=\"\")\n",
        "  print() \n",
        "  "
      ],
      "metadata": {
        "colab": {
          "base_uri": "https://localhost:8080/"
        },
        "id": "EUE5xSIkbnFt",
        "outputId": "c21cea3f-92c2-41fd-e9b1-aca7b6f5a850"
      },
      "execution_count": null,
      "outputs": [
        {
          "output_type": "stream",
          "name": "stdout",
          "text": [
            "*\n",
            "**\n",
            "***\n",
            "****\n",
            "*****\n"
          ]
        }
      ]
    },
    {
      "cell_type": "code",
      "source": [
        "for i in range(1,5):\n",
        "  for j in range(1,i+1):\n",
        "    print(j,end=\"\")\n",
        "  print()"
      ],
      "metadata": {
        "colab": {
          "base_uri": "https://localhost:8080/"
        },
        "id": "0tez6Oz_wVSR",
        "outputId": "6f1ccfbd-d8e6-451f-95af-e1b2fd998bb3"
      },
      "execution_count": null,
      "outputs": [
        {
          "output_type": "stream",
          "name": "stdout",
          "text": [
            "1\n",
            "12\n",
            "123\n",
            "1234\n"
          ]
        }
      ]
    },
    {
      "cell_type": "code",
      "source": [
        "for i in range(1,5):\n",
        "  for j in range(1,i+1):\n",
        "    print(i,end=\"\")\n",
        "  print()  "
      ],
      "metadata": {
        "colab": {
          "base_uri": "https://localhost:8080/"
        },
        "id": "FAX4julN6Kov",
        "outputId": "3faf11ff-e0b7-4957-9d02-1243d55f16a0"
      },
      "execution_count": null,
      "outputs": [
        {
          "output_type": "stream",
          "name": "stdout",
          "text": [
            "1\n",
            "22\n",
            "333\n",
            "4444\n"
          ]
        }
      ]
    },
    {
      "cell_type": "code",
      "source": [
        "for i in range(1,11):\n",
        "  for j in range(1,i+1):\n",
        "    print(j,end=\" \")\n",
        "  print()  "
      ],
      "metadata": {
        "id": "P85mjYSI66Oa",
        "colab": {
          "base_uri": "https://localhost:8080/"
        },
        "outputId": "0deec719-65b4-4302-8cb5-70da8b53b197"
      },
      "execution_count": null,
      "outputs": [
        {
          "output_type": "stream",
          "name": "stdout",
          "text": [
            "1 \n",
            "1 2 \n",
            "1 2 3 \n",
            "1 2 3 4 \n",
            "1 2 3 4 5 \n",
            "1 2 3 4 5 6 \n",
            "1 2 3 4 5 6 7 \n",
            "1 2 3 4 5 6 7 8 \n",
            "1 2 3 4 5 6 7 8 9 \n",
            "1 2 3 4 5 6 7 8 9 10 \n"
          ]
        }
      ]
    },
    {
      "cell_type": "code",
      "source": [
        "print(\"vinod\")"
      ],
      "metadata": {
        "id": "xKN8m-UbbSPb",
        "colab": {
          "base_uri": "https://localhost:8080/"
        },
        "outputId": "35eb5f89-9cf6-4b52-c1e4-476db26c8355"
      },
      "execution_count": null,
      "outputs": [
        {
          "output_type": "stream",
          "name": "stdout",
          "text": [
            "vinod\n"
          ]
        }
      ]
    },
    {
      "cell_type": "code",
      "source": [
        "x = int(input(\"\"))\n",
        "#print(len(x))\n",
        "for i in range(1,11,2):\n",
        "  if x==i:\n",
        "    print(\"odd\")\n"
      ],
      "metadata": {
        "colab": {
          "base_uri": "https://localhost:8080/"
        },
        "id": "GA7diOFfZylH",
        "outputId": "0c36df70-f85a-493d-da28-e200a0309a9b"
      },
      "execution_count": null,
      "outputs": [
        {
          "output_type": "stream",
          "name": "stdout",
          "text": [
            "9\n",
            "odd\n"
          ]
        }
      ]
    },
    {
      "cell_type": "code",
      "source": [
        "print(\"vinod\")"
      ],
      "metadata": {
        "id": "owLisAjQaGFT",
        "colab": {
          "base_uri": "https://localhost:8080/"
        },
        "outputId": "69ca3a0f-d92e-4548-bdbc-b25d0918d3c9"
      },
      "execution_count": null,
      "outputs": [
        {
          "output_type": "stream",
          "name": "stdout",
          "text": [
            "vinod\n"
          ]
        }
      ]
    },
    {
      "cell_type": "code",
      "source": [
        "def func():\n",
        "  print(\"vinod\")\n",
        "v=7  \n",
        "print(f\"i am good boy{v}\")\n"
      ],
      "metadata": {
        "colab": {
          "base_uri": "https://localhost:8080/"
        },
        "id": "v3KEcJXEUJEv",
        "outputId": "c2db8f88-2195-47cf-90fb-618d477e5001"
      },
      "execution_count": null,
      "outputs": [
        {
          "output_type": "stream",
          "name": "stdout",
          "text": [
            "i am good boy7\n"
          ]
        }
      ]
    },
    {
      "cell_type": "code",
      "source": [
        "print(\"ff\")"
      ],
      "metadata": {
        "id": "Hz7C3fKiUmy5",
        "colab": {
          "base_uri": "https://localhost:8080/"
        },
        "outputId": "b09ef3d5-e994-4c46-d5c8-2a5329af8048"
      },
      "execution_count": null,
      "outputs": [
        {
          "output_type": "stream",
          "name": "stdout",
          "text": [
            "ff\n"
          ]
        }
      ]
    },
    {
      "cell_type": "code",
      "source": [
        "def function():\n",
        "  print(\"move\")\n",
        "  print(\"left\")\n",
        "function()  "
      ],
      "metadata": {
        "colab": {
          "base_uri": "https://localhost:8080/"
        },
        "id": "Fc1hR4zgkGvl",
        "outputId": "c53c65dc-c0b3-4d30-dfab-63267244097c"
      },
      "execution_count": null,
      "outputs": [
        {
          "output_type": "stream",
          "name": "stdout",
          "text": [
            "move\n",
            "left\n"
          ]
        }
      ]
    },
    {
      "cell_type": "code",
      "source": [
        "def vinod(a,b):\n",
        "  sum = a+b\n",
        "  print(sum)\n",
        "vinod(1,2)  \n"
      ],
      "metadata": {
        "id": "q0DP-bIKlcjc",
        "colab": {
          "base_uri": "https://localhost:8080/"
        },
        "outputId": "3ef08a9d-1c94-428b-f2b4-7fd2af1cb883"
      },
      "execution_count": null,
      "outputs": [
        {
          "output_type": "stream",
          "name": "stdout",
          "text": [
            "3\n"
          ]
        }
      ]
    },
    {
      "cell_type": "code",
      "source": [
        "for i in range(1,6):\n",
        "  for j in range(1,i+1):\n",
        "     print(j,end =\" \")\n",
        "  print( )   "
      ],
      "metadata": {
        "colab": {
          "base_uri": "https://localhost:8080/"
        },
        "id": "u8buMPCW4KbE",
        "outputId": "8d79e6e6-bbaa-469d-b885-aab9e16be72b"
      },
      "execution_count": null,
      "outputs": [
        {
          "output_type": "stream",
          "name": "stdout",
          "text": [
            "1 \n",
            "1 2 \n",
            "1 2 3 \n",
            "1 2 3 4 \n",
            "1 2 3 4 5 \n"
          ]
        }
      ]
    },
    {
      "cell_type": "code",
      "source": [
        "66 // 10"
      ],
      "metadata": {
        "colab": {
          "base_uri": "https://localhost:8080/"
        },
        "id": "0RHYXSjr4dLm",
        "outputId": "3125a230-bd95-428b-a90d-ba3aba2823cc"
      },
      "execution_count": null,
      "outputs": [
        {
          "output_type": "execute_result",
          "data": {
            "text/plain": [
              "6"
            ]
          },
          "metadata": {},
          "execution_count": 6
        }
      ]
    },
    {
      "cell_type": "code",
      "source": [
        "x = input(\"\")\n",
        "print(x)\n",
        "print(x[::-1])\n"
      ],
      "metadata": {
        "id": "rd3f7kro9fvx",
        "colab": {
          "base_uri": "https://localhost:8080/"
        },
        "outputId": "f76bce75-be08-4471-e4bd-c0f0a5de5bc3"
      },
      "execution_count": null,
      "outputs": [
        {
          "output_type": "stream",
          "name": "stdout",
          "text": [
            "654373\n",
            "654373\n",
            "373456\n"
          ]
        }
      ]
    },
    {
      "cell_type": "code",
      "source": [
        "x = int(input(\"enter the number: \"))\n",
        "y = x\n",
        "sum = 0\n",
        "while y>0:\n",
        "  digit = y % 10\n",
        "  sum = sum + digit\n",
        "  y = y // 10\n",
        "print(sum)  \n"
      ],
      "metadata": {
        "colab": {
          "base_uri": "https://localhost:8080/"
        },
        "id": "mnl7H1s2ZcFa",
        "outputId": "d3a2d7af-4eaf-41a7-f9f6-3448aad744c4"
      },
      "execution_count": null,
      "outputs": [
        {
          "output_type": "stream",
          "name": "stdout",
          "text": [
            "enter the number: 1\n",
            "1\n"
          ]
        }
      ]
    },
    {
      "cell_type": "code",
      "source": [
        " # Python program to check if the number is an Armstrong number or not\n",
        "\n",
        "# take input from the user\n",
        "num = int(input(\"Enter a number: \"))\n",
        "\n",
        "# initialize sum\n",
        "sum = 0\n",
        "\n",
        "# find the sum of the cube of each digit\n",
        "temp = num\n",
        "while temp > 0:\n",
        "   digit = temp % 10\n",
        "   sum += digit ** 3\n",
        "   temp //= 10\n",
        "\n",
        "# display the result\n",
        "if num == sum:\n",
        "   print(num,\"is an Armstrong number\")\n",
        "else:\n",
        "   print(num,\"is not an Armstrong number\")\n"
      ],
      "metadata": {
        "id": "2H4HMZcuchuw"
      },
      "execution_count": null,
      "outputs": []
    },
    {
      "cell_type": "code",
      "source": [
        "x = int(input(\"\"))\n",
        "for i in range(1,x):\n",
        "  x % i =0\n",
        "  if i ==\n"
      ],
      "metadata": {
        "id": "Pp_lF6i9j4Hq"
      },
      "execution_count": null,
      "outputs": []
    }
  ],
  "metadata": {
    "colab": {
      "provenance": [],
      "authorship_tag": "ABX9TyMs5PEW6HCb3y70tZf3lEM7",
      "include_colab_link": true
    },
    "kernelspec": {
      "display_name": "Python 3",
      "name": "python3"
    },
    "language_info": {
      "name": "python"
    }
  },
  "nbformat": 4,
  "nbformat_minor": 0
}